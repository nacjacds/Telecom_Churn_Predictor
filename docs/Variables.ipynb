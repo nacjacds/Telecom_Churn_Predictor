{
 "cells": [
  {
   "cell_type": "markdown",
   "metadata": {},
   "source": [
    "# VARIABLES"
   ]
  },
  {
   "cell_type": "markdown",
   "metadata": {},
   "source": [
    "### TODAS LAS VARIABLES ORIGINALES"
   ]
  },
  {
   "cell_type": "markdown",
   "metadata": {},
   "source": [
    "**customerID:** Unique identifier for each customer.   \n",
    "\n",
    "**gender:** Customer's gender (Male/Female).   \n",
    "\n",
    "**SeniorCitizen:** Indicates if the customer is a senior citizen (0: No, 1: Yes).\n",
    "\n",
    "**Partner:** Indicates if the customer has a partner (Yes/No).   \n",
    "\n",
    "**Dependents:** Indicates if the customer has dependents (Yes/No).   \n",
    "\n",
    "**tenure:** Number of months the customer has been with the provider.   \n",
    "\n",
    "**PhoneService:** Indicates if the customer has phone service (Yes/No).   \n",
    "\n",
    "**MultipleLines:** Indicates if the customer has multiple phone lines (No phone service, No, Yes).   \n",
    "\n",
    "InternetService: Type of internet service the customer has (DSL, Fiber optic, No).   \n",
    "\n",
    "OnlineSecurity: Indicates if the customer has online security service (Yes/No/No internet service).  \n",
    "\n",
    "OnlineBackup: Indicates if the customer has online backup service (Yes/No/No internet service).   \n",
    "\n",
    "DeviceProtection: Indicates if the customer has device protection service (Yes/No/No internet service).   \n",
    "\n",
    "TechSupport: Indicates if the customer has tech support service (Yes/No/No internet service).   \n",
    "\n",
    "StreamingTV: Indicates if the customer has streaming TV service (Yes/No/No internet service).   \n",
    "\n",
    "StreamingMovies: Indicates if the customer has streaming movies service (Yes/No/No internet service).   \n",
    "\n",
    "Contract: Type of contract the customer has (Month-to-month, One year, Two year).   \n",
    "\n",
    "PaperlessBilling: Indicates if the customer has paperless billing (Yes/No).   \n",
    "\n",
    "PaymentMethod: Customer's payment method (Electronic check, Mailed check, Bank transfer (automatic), Credit card (automatic)).  \n",
    "\n",
    "MonthlyCharges: Customer's monthly charges. TotalCharges: Customer's total accumulated charges.   \n",
    "\n",
    "Churn: Indicates if the customer has churned (Yes/No)."
   ]
  },
  {
   "cell_type": "markdown",
   "metadata": {},
   "source": [
    "## Variables con Correlación Significativa con Churn"
   ]
  },
  {
   "cell_type": "markdown",
   "metadata": {},
   "source": [
    "**Contract_Month-to-month** (0.43): Los clientes con contratos mensuales tienen una mayor probabilidad de churn.   \n",
    "\n",
    "**tenure** (-0.35): Los clientes con mayor tiempo de permanencia (tenure) tienen menos probabilidad de churn.   \n",
    "\n",
    "**InternetService_Fiber optic** (0.31): Los clientes con servicio de internet de fibra óptica tienen una mayor probabilidad de churn.   \n",
    "\n",
    "**PaymentMethod_Electronic check** (0.30): Los clientes que pagan con cheque electrónico tienen una mayor probabilidad de churn.   \n",
    "\n",
    "**Contract_Two year** (-0.30): Los clientes con contratos de dos años tienen menos probabilidad de churn.   \n",
    "\n",
    "**MonthlyCharges** (0.19): Los clientes con cargos mensuales más altos tienen una mayor probabilidad de churn.   \n",
    "\n",
    "**TotalCharges** (-0.20): Los clientes con cargos totales más altos tienen menos probabilidad de churn.   "
   ]
  },
  {
   "cell_type": "markdown",
   "metadata": {},
   "source": [
    "## Variables de sentido común"
   ]
  },
  {
   "cell_type": "markdown",
   "metadata": {},
   "source": [
    " **OnlineSecurity, OnlineBackup, DeviceProtection, TechSupport, StreamingTV y StreamingMovies**.   \n",
    " Son Servicios adicionales que pueden influir en la satisfacción del cliente.  \n",
    "\n",
    "**MultipleLines**   \n",
    "Clientes con múltiples líneas pueden estar más comprometidos con el servicio y menos propensos a churn.\n",
    "\n",
    "**Dependents y  Partner**   \n",
    "Clientes con dependientes o pareja pueden tener diferentes necesidades y lealtades."
   ]
  },
  {
   "cell_type": "markdown",
   "metadata": {},
   "source": [
    "### Variables Buena Correlacion + Sentido Comun"
   ]
  },
  {
   "cell_type": "code",
   "execution_count": null,
   "metadata": {},
   "outputs": [],
   "source": [
    "Contract_Month-to-month\n",
    "tenure\n",
    "InternetService_Fiber optic\n",
    "PaymentMethod_Electronic check\n",
    "Contract_Two year\n",
    "MonthlyCharges\n",
    "TotalCharges\n",
    "\n",
    "OnlineSecurity\n",
    "OnlineBackup\n",
    "DeviceProtection\n",
    "TechSupport\n",
    "StreamingTV\n",
    "StreamingMovies\n",
    "MultipleLines\n",
    "Dependents\n",
    "Partner"
   ]
  }
 ],
 "metadata": {
  "kernelspec": {
   "display_name": "Python 3",
   "language": "python",
   "name": "python3"
  },
  "language_info": {
   "name": "python",
   "version": "3.12.3"
  }
 },
 "nbformat": 4,
 "nbformat_minor": 2
}
